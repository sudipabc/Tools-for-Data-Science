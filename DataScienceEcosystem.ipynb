{
  "nbformat": 4,
  "nbformat_minor": 0,
  "metadata": {
    "colab": {
      "provenance": []
    },
    "kernelspec": {
      "name": "python3",
      "display_name": "Python 3"
    },
    "language_info": {
      "name": "python"
    }
  },
  "cells": [
    {
      "cell_type": "markdown",
      "source": [
        "## Author\n",
        "Sudip Chowdhury\n"
      ],
      "metadata": {
        "id": "UbTVKwwgPSOq"
      }
    },
    {
      "cell_type": "markdown",
      "source": [
        "# Data Science Tools and Ecosystem"
      ],
      "metadata": {
        "id": "ZAUtaLJV7oyI"
      }
    },
    {
      "cell_type": "markdown",
      "source": [
        "In this notebook, Data Science Tools and Ecosystem are summarized."
      ],
      "metadata": {
        "id": "BZXPhBrVL4-u"
      }
    },
    {
      "cell_type": "markdown",
      "source": [
        "**Objectives:**\n",
        "- List popular languages for Data Science\n",
        "- Introduce common data science libraries\n",
        "- Demonstrate basic arithmetic operations in Python\n",
        "- Convert minutes to hours using Python\n"
      ],
      "metadata": {
        "id": "jKjPumlRO2Qj"
      }
    },
    {
      "cell_type": "markdown",
      "source": [
        "Some of the popular languages that Data Scientists use are:\n",
        "1. Python\n",
        "2. R\n",
        "3. SQL"
      ],
      "metadata": {
        "id": "U-KbQ1BsMtKq"
      }
    },
    {
      "cell_type": "markdown",
      "source": [
        "### Some of the commonly used libraries by Data Scientists include:\n",
        "\n",
        "1. Pandas - Provides data structures and data analysis tools.\n",
        "2. NumPy - Adds support for large, multi-dimensional arrays and matrices, along with a collection of mathematical functions to operate on these arrays.\n",
        "3. Matplotlib - A plotting library for creating static, interactive, and animated visualizations in Python.\n",
        "4. Scikit-learn - Offers simple and efficient tools for data mining and data analysis, built on NumPy, SciPy, and matplotlib.\n"
      ],
      "metadata": {
        "id": "-Ys6srEeNKO6"
      }
    },
    {
      "cell_type": "markdown",
      "source": [
        "| Data Science Tools |\n",
        "|--------------------|\n",
        "| Jupyter Notebook   |\n",
        "| RStudio            |\n",
        "| Apache Zeppelin    |\n"
      ],
      "metadata": {
        "id": "6UVBeFmiNbBA"
      }
    },
    {
      "cell_type": "markdown",
      "source": [
        "### Below are a few examples of evaluating arithmetic expressions in Python."
      ],
      "metadata": {
        "id": "6vB-O9vuN6lk"
      }
    },
    {
      "cell_type": "code",
      "source": [
        "# This is a simple arithmetic expression to multiply then add integers\n",
        "(3 * 4) + 5"
      ],
      "metadata": {
        "colab": {
          "base_uri": "https://localhost:8080/"
        },
        "id": "3bpqUuirOObQ",
        "outputId": "7827ea11-c030-476b-e733-8661103c2557"
      },
      "execution_count": 4,
      "outputs": [
        {
          "output_type": "execute_result",
          "data": {
            "text/plain": [
              "17"
            ]
          },
          "metadata": {},
          "execution_count": 4
        }
      ]
    },
    {
      "cell_type": "code",
      "source": [
        "# This will convert 200 minutes to hours by dividing by 60\n",
        "200 / 60\n"
      ],
      "metadata": {
        "colab": {
          "base_uri": "https://localhost:8080/"
        },
        "id": "HKUJBbYpOPTH",
        "outputId": "4465b40a-769d-4728-ad77-1bd2e8625061"
      },
      "execution_count": 5,
      "outputs": [
        {
          "output_type": "execute_result",
          "data": {
            "text/plain": [
              "3.3333333333333335"
            ]
          },
          "metadata": {},
          "execution_count": 5
        }
      ]
    },
    {
      "cell_type": "code",
      "source": [],
      "metadata": {
        "id": "CuWdtlweOYOy"
      },
      "execution_count": null,
      "outputs": []
    }
  ]
}